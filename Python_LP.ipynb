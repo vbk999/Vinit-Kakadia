{
  "nbformat": 4,
  "nbformat_minor": 0,
  "metadata": {
    "colab": {
      "provenance": [],
      "authorship_tag": "ABX9TyPZiO4bDK1ZR0FxgS3tvVb4",
      "include_colab_link": true
    },
    "kernelspec": {
      "name": "python3",
      "display_name": "Python 3"
    },
    "language_info": {
      "name": "python"
    }
  },
  "cells": [
    {
      "cell_type": "markdown",
      "metadata": {
        "id": "view-in-github",
        "colab_type": "text"
      },
      "source": [
        "<a href=\"https://colab.research.google.com/github/vbk999/Vinit-Kakadia/blob/master/Python_LP.ipynb\" target=\"_parent\"><img src=\"https://colab.research.google.com/assets/colab-badge.svg\" alt=\"Open In Colab\"/></a>"
      ]
    },
    {
      "cell_type": "code",
      "execution_count": 3,
      "metadata": {
        "colab": {
          "base_uri": "https://localhost:8080/"
        },
        "id": "qgoYy90QwXmz",
        "outputId": "fd99ef3a-aff6-4037-8fcc-3a1f22e0204a"
      },
      "outputs": [
        {
          "output_type": "stream",
          "name": "stdout",
          "text": [
            " message: Optimization terminated successfully.\n",
            " success: True\n",
            "  status: 0\n",
            "     fun: -16.818181818181817\n",
            "       x: [ 7.727e+00  4.545e+00]\n",
            "     nit: 5\n",
            "-16.818181818181817\n"
          ]
        },
        {
          "output_type": "stream",
          "name": "stderr",
          "text": [
            "<ipython-input-3-c6d0c03a3cca>:8: DeprecationWarning: `method='simplex'` is deprecated and will be removed in SciPy 1.11.0. Please use one of the HiGHS solvers (e.g. `method='highs'`) in new code.\n",
            "  opt = linprog(c=obj, A_ub=A, b_ub=b,A_eq=A_eq,\n"
          ]
        }
      ],
      "source": [
        "from scipy.optimize import linprog\n",
        "obj = [-1, -2]\n",
        "A = [[ 2,  1],[-4,  5],[ 1, -2]]\n",
        "b = [20,10,2]\n",
        "A_eq = [[-1, 5]]\n",
        "b_eq = [15]\n",
        "bnd = [(0, float(\"inf\")), (0, float(\"inf\"))]\n",
        "opt = linprog(c=obj, A_ub=A, b_ub=b,A_eq=A_eq,\n",
        "b_eq=b_eq, bounds=bnd,method=\"simplex\")\n",
        "print(opt)\n",
        "print(opt.fun)"
      ]
    }
  ]
}